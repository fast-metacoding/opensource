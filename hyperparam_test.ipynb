{
  "nbformat": 4,
  "nbformat_minor": 0,
  "metadata": {
    "colab": {
      "provenance": [],
      "authorship_tag": "ABX9TyPKRHsQWahmEB5MaT/CDe+F",
      "include_colab_link": true
    },
    "kernelspec": {
      "name": "python3",
      "display_name": "Python 3"
    },
    "language_info": {
      "name": "python"
    }
  },
  "cells": [
    {
      "cell_type": "markdown",
      "metadata": {
        "id": "view-in-github",
        "colab_type": "text"
      },
      "source": [
        "<a href=\"https://colab.research.google.com/github/hyunaeee/opensource/blob/main/hyperparam_test.ipynb\" target=\"_parent\"><img src=\"https://colab.research.google.com/assets/colab-badge.svg\" alt=\"Open In Colab\"/></a>"
      ]
    },
    {
      "cell_type": "code",
      "execution_count": 1,
      "metadata": {
        "colab": {
          "base_uri": "https://localhost:8080/"
        },
        "id": "u-xjVf4BVBn3",
        "outputId": "eb624652-f3dd-4bf6-a440-26646cfde2cb"
      },
      "outputs": [
        {
          "output_type": "stream",
          "name": "stdout",
          "text": [
            "Fitting 5 folds for each of 32 candidates, totalling 160 fits\n",
            "최적의 하이퍼파라미터: {'C': 1, 'gamma': 'scale', 'kernel': 'linear'}\n",
            "최고 정확도: 0.9583333333333334\n",
            "테스트 세트 정확도: 1.0\n"
          ]
        }
      ],
      "source": [
        "from sklearn.model_selection import GridSearchCV\n",
        "from sklearn.svm import SVC\n",
        "from sklearn.datasets import load_iris\n",
        "from sklearn.model_selection import train_test_split\n",
        "\n",
        "# 데이터 로드\n",
        "iris = load_iris()\n",
        "X = iris.data\n",
        "y = iris.target\n",
        "\n",
        "# 학습용과 테스트용 데이터 분리\n",
        "X_train, X_test, y_train, y_test = train_test_split(X, y, test_size=0.2, random_state=42)\n",
        "\n",
        "# 테스트해볼 하이퍼파라미터 설정\n",
        "param_grid = {\n",
        "    'C': [0.1, 1, 10, 100],  # 규제 강도\n",
        "    'kernel': ['rbf', 'linear'],  # 커널 종류\n",
        "    'gamma': ['scale', 'auto', 0.1, 1],  # RBF 커널의 감마값\n",
        "}\n",
        "\n",
        "# 모델 생성\n",
        "svm = SVC()\n",
        "\n",
        "# GridSearchCV를 사용하여 최적의 하이퍼파라미터 찾기\n",
        "grid_search = GridSearchCV(\n",
        "    estimator=svm,\n",
        "    param_grid=param_grid,\n",
        "    cv=5,  # 5-fold 교차 검증\n",
        "    n_jobs=-1,  # 모든 CPU 코어 사용\n",
        "    verbose=1\n",
        ")\n",
        "\n",
        "# 학습 수행\n",
        "grid_search.fit(X_train, y_train)\n",
        "\n",
        "# 최적의 하이퍼파라미터 출력\n",
        "print(\"최적의 하이퍼파라미터:\", grid_search.best_params_)\n",
        "print(\"최고 정확도:\", grid_search.best_score_)\n",
        "\n",
        "# 테스트 데이터로 성능 평가\n",
        "test_accuracy = grid_search.score(X_test, y_test)\n",
        "print(\"테스트 세트 정확도:\", test_accuracy)"
      ]
    }
  ]
}