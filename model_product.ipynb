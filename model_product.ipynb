{
  "nbformat": 4,
  "nbformat_minor": 0,
  "metadata": {
    "colab": {
      "provenance": [],
      "authorship_tag": "ABX9TyO66ESTTLLBybWpLvgQ7u9b",
      "include_colab_link": true
    },
    "kernelspec": {
      "name": "python3",
      "display_name": "Python 3"
    },
    "language_info": {
      "name": "python"
    }
  },
  "cells": [
    {
      "cell_type": "markdown",
      "metadata": {
        "id": "view-in-github",
        "colab_type": "text"
      },
      "source": [
        "<a href=\"https://colab.research.google.com/github/hyunaeee/opensource/blob/main/model_product.ipynb\" target=\"_parent\"><img src=\"https://colab.research.google.com/assets/colab-badge.svg\" alt=\"Open In Colab\"/></a>"
      ]
    },
    {
      "cell_type": "code",
      "execution_count": null,
      "metadata": {
        "id": "kRY-D-XKVd_P"
      },
      "outputs": [],
      "source": [
        "from sklearn.model_selection import train_test_split\n",
        "from sklearn.preprocessing import StandardScaler\n",
        "from sklearn.linear_model import LogisticRegression\n",
        "from sklearn.ensemble import RandomForestClassifier\n",
        "from sklearn.metrics import accuracy_score, classification_report\n",
        "import matplotlib.pyplot as plt\n",
        "import seaborn as sns\n",
        "import pandas as pd"
      ]
    },
    {
      "cell_type": "code",
      "source": [
        "df=pd.read_csv('./products_dataset.csv')"
      ],
      "metadata": {
        "id": "lu6hs8V6VyvB"
      },
      "execution_count": null,
      "outputs": []
    },
    {
      "cell_type": "code",
      "source": [
        "X=df[['product_name_length', 'product_description_length', 'product_photos_qty', 'product_weight_g',\n",
        "      'product_length_cm', 'product_height_cm', 'product_width_cm']] #특징 데이터\n",
        "\n",
        "y=df['product_category_name'] #레이블 데이터\n"
      ],
      "metadata": {
        "id": "IOgNuvPWWh0i"
      },
      "execution_count": null,
      "outputs": []
    },
    {
      "cell_type": "code",
      "source": [
        "X_train,X_test,y_train,y_test= train_test_split(X,y,test_size=0.2, random_state=42) #훈련:테스트=0.8:0.2"
      ],
      "metadata": {
        "id": "cG4if5d-XIJq"
      },
      "execution_count": null,
      "outputs": []
    },
    {
      "cell_type": "code",
      "source": [
        "scaler=StandardScaler()\n",
        "X_train_scaled=scaler.fit_transform(X_train) #훈련데이터를 기준으로 스케일링\n",
        "X_test_scaled=scaler.transform(X_test) #테스트 데이터 스케일링"
      ],
      "metadata": {
        "id": "fMrbq6oEXdBm"
      },
      "execution_count": null,
      "outputs": []
    },
    {
      "cell_type": "code",
      "source": [
        "#Logistic Regression 학습 및 평가\n",
        "log_reg=LogisticRegression(random_state=42) #로지스틱리그레션 모델 만들고\n",
        "log_reg.fit(X_train_scaled,y_train) #모델 학습\n",
        "y_pred=log_reg.predict(X_test_scaled) #예측평가\n",
        "\n",
        "print(\"Logistic Regression Accuracy:\",accuracy_score(y_test,y_pred))\n",
        "print(\"Logistic Regression Classification Report:\\n\", classification_report(y_test,y_pred))"
      ],
      "metadata": {
        "colab": {
          "base_uri": "https://localhost:8080/"
        },
        "id": "GSeiP7KwXpd_",
        "outputId": "c34520f1-9abe-4dfd-b330-36f82a75735a"
      },
      "execution_count": null,
      "outputs": [
        {
          "output_type": "stream",
          "name": "stdout",
          "text": [
            "Logistic Regression Accuracy: 0.6294964028776978\n",
            "Logistic Regression Classification Report:\n",
            "               precision    recall  f1-score   support\n",
            "\n",
            "       미용_건강       0.52      0.60      0.56       463\n",
            "      스포츠_레저       0.57      0.48      0.52       587\n",
            "   침대_테이블_목욕       0.76      0.79      0.78       618\n",
            "\n",
            "    accuracy                           0.63      1668\n",
            "   macro avg       0.62      0.62      0.62      1668\n",
            "weighted avg       0.63      0.63      0.63      1668\n",
            "\n"
          ]
        }
      ]
    },
    {
      "cell_type": "code",
      "source": [
        "#Random Forest 학습 및 평가\n",
        "rf_classifier=RandomForestClassifier(random_state=42) #랜덤포레스트 모델 만들고\n",
        "rf_classifier.fit(X_train,y_train) #모델 학습\n",
        "y_pred=rf_classifier.predict(X_test) #예측평가\n",
        "\n",
        "print(\"Random Forest Accuracy:\",accuracy_score(y_test,y_pred))\n",
        "print(\"Random Forest Classification Report:\\n\",classification_report(y_test,y_pred))"
      ],
      "metadata": {
        "colab": {
          "base_uri": "https://localhost:8080/"
        },
        "id": "glqOzJ0wX9Gv",
        "outputId": "87303ff8-e7f1-4ddf-f65a-4adfa2a52871"
      },
      "execution_count": null,
      "outputs": [
        {
          "output_type": "stream",
          "name": "stdout",
          "text": [
            "Random Forest Accuracy: 0.7835731414868106\n",
            "Random Forest Classification Report:\n",
            "               precision    recall  f1-score   support\n",
            "\n",
            "       미용_건강       0.69      0.70      0.69       463\n",
            "      스포츠_레저       0.72      0.72      0.72       587\n",
            "   침대_테이블_목욕       0.91      0.91      0.91       618\n",
            "\n",
            "    accuracy                           0.78      1668\n",
            "   macro avg       0.77      0.78      0.78      1668\n",
            "weighted avg       0.78      0.78      0.78      1668\n",
            "\n"
          ]
        }
      ]
    },
    {
      "cell_type": "markdown",
      "source": [],
      "metadata": {
        "id": "xwMGRglW7WT2"
      }
    }
  ]
}